{
 "cells": [
  {
   "cell_type": "code",
   "execution_count": 1,
   "metadata": {},
   "outputs": [],
   "source": [
    "import pandas as pd\n",
    "import re\n",
    "import sys"
   ]
  },
  {
   "cell_type": "code",
   "execution_count": 3,
   "metadata": {},
   "outputs": [],
   "source": [
    "# def split_test_methods(df, column_name):\n",
    "#     df = df.copy()\n",
    "#     for index, row in df.iterrows():\n",
    "#         test_class_def = row[column_name]\n",
    "#         class_name = re.search(r'class (\\w+)', test_class_def).group(1)\n",
    "#         test_methods = re.findall(r'def (\\w+)', test_class_def)\n",
    "\n",
    "#         new_method_defs = \"\"\n",
    "#         for method in test_methods:\n",
    "#             pattern = r'def ' + method + r'\\(self\\):([\\s\\S]*?)(?=def \\w+\\(self\\)|$)'\n",
    "#             method_body = re.search(pattern, test_class_def)\n",
    "#             try:\n",
    "#                 method_body = method_body.group(1)\n",
    "#             except:\n",
    "#                 print(method)\n",
    "#                 print(index, row)\n",
    "#                 sys.exit()\n",
    "#             asserts = re.findall(r'(self\\.assert\\w+\\(.*?\\))', method_body)\n",
    "#             print(asserts)\n",
    "#             if len(asserts) > 1:\n",
    "#                 for i, assert_stmt in enumerate(asserts, 1):\n",
    "#                     new_method_name = f\"{method}_{i}\"\n",
    "#                     new_method_def = f\"    def {new_method_name}(self):\\n        {assert_stmt}\\n\"\n",
    "#                     new_method_defs += new_method_def\n",
    "#             else:\n",
    "#                 # Mantendo a formatação original para métodos com um único assert\n",
    "#                 method_body_corrected = method_body.strip()\n",
    "#                 new_method_defs += f\"    def {method}(self):\\n\"+ \"        \" + f\"{method_body_corrected}\\n\\n\"\n",
    "\n",
    "#         df.at[index, column_name] = f\"class {class_name}:\\n{new_method_defs.rstrip()}\"\n",
    "\n",
    "#     return df"
   ]
  },
  {
   "cell_type": "markdown",
   "metadata": {},
   "source": [
    "# Função Para Separar Múltiplos Assert "
   ]
  },
  {
   "cell_type": "code",
   "execution_count": 4,
   "metadata": {},
   "outputs": [],
   "source": [
    "def split_test_methods(df, column_name):\n",
    "    df = df.copy()\n",
    "    for index, row in df.iterrows():\n",
    "        test_class_def = row[column_name]\n",
    "        class_name = re.search(r'class (\\w+)', test_class_def).group(1)\n",
    "        test_methods = re.findall(r'def (\\w+)', test_class_def)\n",
    "\n",
    "        new_method_defs = \"\"\n",
    "        for method in test_methods:\n",
    "            pattern = r'def ' + method + r'\\(self\\):([\\s\\S]*?)(?=def \\w+\\(self\\)|$)'\n",
    "            method_body = re.search(pattern, test_class_def)\n",
    "            try:\n",
    "                method_body = method_body.group(1)\n",
    "            except:\n",
    "                print(method)\n",
    "                print(index, row)\n",
    "                sys.exit()\n",
    "            asserts = re.findall(r'(self\\.assert\\w+\\(.*\\))', method_body)\n",
    "            if len(asserts) > 1:\n",
    "                for i, assert_stmt in enumerate(asserts, 1):\n",
    "                    new_method_name = f\"{method}_{i}\"\n",
    "                    new_method_def = f\"    def {new_method_name}(self):\\n        {assert_stmt}\\n\"\n",
    "                    new_method_defs += new_method_def\n",
    "            else:\n",
    "                # Mantendo a formatação original para métodos com um único assert\n",
    "                method_body_corrected = method_body.strip()\n",
    "                new_method_defs += f\"    def {method}(self):\\n\"+ \"        \" + f\"{method_body_corrected}\\n\\n\"\n",
    "\n",
    "        df.at[index, column_name] = f\"class {class_name}:\\n{new_method_defs.rstrip()}\"\n",
    "\n",
    "    return df"
   ]
  },
  {
   "cell_type": "markdown",
   "metadata": {},
   "source": [
    "# Leitura e Execução "
   ]
  },
  {
   "cell_type": "code",
   "execution_count": 5,
   "metadata": {},
   "outputs": [],
   "source": [
    "df = pd.read_csv(\n",
    "    '../../1_INFERANCE_UNIT_TEST/CodeLLaMA-7B/generated_tests_codellama7b_replicate.csv',\n",
    "    sep=',',\n",
    "    header=0\n",
    ")"
   ]
  },
  {
   "cell_type": "code",
   "execution_count": 6,
   "metadata": {},
   "outputs": [],
   "source": [
    "df = split_test_methods(df, 'generated_solution')"
   ]
  },
  {
   "cell_type": "code",
   "execution_count": 7,
   "metadata": {},
   "outputs": [],
   "source": [
    "df.to_csv('generated_tests_codellama7b_replicate_split_adjusted.csv', index=False)"
   ]
  },
  {
   "cell_type": "code",
   "execution_count": 8,
   "metadata": {},
   "outputs": [
    {
     "data": {
      "text/plain": [
       "(164, 3)"
      ]
     },
     "execution_count": 8,
     "metadata": {},
     "output_type": "execute_result"
    }
   ],
   "source": [
    "df.shape"
   ]
  },
  {
   "cell_type": "code",
   "execution_count": null,
   "metadata": {},
   "outputs": [],
   "source": []
  }
 ],
 "metadata": {
  "kernelspec": {
   "display_name": "llm",
   "language": "python",
   "name": "python3"
  },
  "language_info": {
   "codemirror_mode": {
    "name": "ipython",
    "version": 3
   },
   "file_extension": ".py",
   "mimetype": "text/x-python",
   "name": "python",
   "nbconvert_exporter": "python",
   "pygments_lexer": "ipython3",
   "version": "3.11.3"
  }
 },
 "nbformat": 4,
 "nbformat_minor": 2
}
